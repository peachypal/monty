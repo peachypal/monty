{
 "cells": [
  {
   "cell_type": "code",
   "execution_count": 1,
   "metadata": {},
   "outputs": [
    {
     "name": "stdout",
     "output_type": "stream",
     "text": [
      "['what', 'shall', 'we', 'do', 'with', 'the', 'drunken', 'sailor']\n"
     ]
    }
   ],
   "source": [
    "from string import punctuation\n",
    "def tokenize(s):\n",
    "    words=s.lower().strip().split()\n",
    "    twords=[word.strip(punctuation) for word in words]\n",
    "    return twords\n",
    "print(tokenize('What shall we do with the drunken sailor?'))"
   ]
  },
  {
   "cell_type": "code",
   "execution_count": 2,
   "metadata": {},
   "outputs": [
    {
     "name": "stdout",
     "output_type": "stream",
     "text": [
      "{'': 9, 'start': 1, 'of': 202, 'this': 52, 'project': 2, 'gutenberg': 2, 'ebook': 2, 'alice': 165, 'in': 167, 'wonderland': 4, 'produced': 1, 'by': 27, 'jason': 1, 'isbell': 1, 'irma': 1, 'spehar': 1, 'and': 335, 'the': 633, 'online': 1, 'distributed': 1, 'proofreading': 1, 'team': 1, 'at': 79, 'http://www.pgdp.net': 1, 'illustration': 26, 'room': 8, 'duchess': 21, 'storyland': 1, 'series': 1, \"alice's\": 8, 'adventures': 3, \"sam'l\": 2, 'gabriel': 2, 'sons': 2, 'company': 3, 'new': 2, 'york': 2, 'copyright': 1, '1916': 1, 'i--down': 1, 'rabbit-hole': 3, 'was': 167, 'beginning': 4, 'to': 247, 'get': 20, 'very': 41, 'tired': 4, 'sitting': 6, 'her': 109, 'sister': 5, 'on': 64, 'bank': 2, 'having': 3, 'nothing': 13, 'do': 29, 'once': 14, 'or': 34, 'twice': 2, 'she': 237, 'had': 65, 'peeped': 3, 'into': 39, 'book': 4, 'reading': 2, 'but': 47, 'it': 168, 'no': 28, 'pictures': 3, 'conversations': 2, 'what': 35, 'is': 37, 'use': 4, 'a': 271, 'thought': 20, 'without': 7, 'so': 39, 'considering': 1, 'own': 2, 'mind': 7, 'as': 91, 'well': 23, 'could': 28, 'for': 48, 'day': 7, 'made': 11, 'feel': 2, 'sleepy': 2, 'stupid': 1, 'whether': 4, 'pleasure': 1, 'making': 3, 'daisy-chain': 1, 'would': 16, 'be': 38, 'worth': 1, 'trouble': 4, 'getting': 7, 'up': 41, 'picking': 1, 'daisies': 1, 'when': 37, 'suddenly': 11, 'white': 22, 'rabbit': 31, 'with': 67, 'pink': 1, 'eyes': 10, 'ran': 10, 'close': 6, 'there': 30, 'remarkable': 2, 'that': 96, 'nor': 3, 'did': 12, 'think': 17, 'much': 13, 'out': 52, 'way': 20, 'hear': 6, 'say': 12, 'itself': 4, 'oh': 16, 'dear': 14, 'i': 127, 'shall': 3, 'too': 9, 'late': 4, 'actually': 1, 'took': 13, 'watch': 2, 'its': 21, 'waistcoat-pocket': 2, 'looked': 18, 'then': 33, 'hurried': 5, 'started': 2, 'feet': 12, 'flashed': 1, 'across': 5, 'never': 11, 'before': 12, 'seen': 3, 'either': 8, 'take': 11, 'burning': 1, 'curiosity': 1, 'field': 1, 'after': 16, 'just': 24, 'time': 21, 'see': 19, 'pop': 1, 'down': 51, 'large': 22, 'under': 10, 'hedge': 2, 'another': 9, 'moment': 17, 'went': 25, 'straight': 1, 'like': 34, 'tunnel': 1, 'some': 20, 'dipped': 1, 'not': 41, 'about': 33, 'stopping': 1, 'herself': 33, 'found': 21, 'falling': 1, 'seemed': 11, 'deep': 2, 'fell': 5, 'slowly': 4, 'plenty': 2, 'look': 4, 'first': 20, 'tried': 8, 'make': 8, 'coming': 4, 'dark': 3, 'anything': 6, 'sides': 2, 'noticed': 6, 'they': 36, 'were': 30, 'filled': 1, 'cupboards': 2, 'book-shelves': 1, 'here': 19, 'saw': 5, 'maps': 1, 'hung': 1, 'upon': 15, 'pegs': 1, 'jar': 2, 'from': 18, 'one': 35, 'shelves': 1, 'passed': 1, 'labeled': 1, 'orange': 1, 'marmalade': 1, 'great': 19, 'disappointment': 1, 'empty': 1, 'drop': 1, 'managed': 2, 'put': 9, 'past': 1, 'fall': 4, 'come': 14, 'an': 18, 'end': 7, 'else': 3, 'soon': 14, 'began': 19, 'talking': 7, \"dinah'll\": 1, 'miss': 3, 'me': 31, 'to-night': 1, 'should': 10, 'dinah': 5, 'cat': 12, 'hope': 3, \"they'll\": 2, 'remember': 3, 'saucer': 1, 'milk': 1, 'tea-time': 1, 'my': 19, 'wish': 8, 'you': 102, 'felt': 7, 'dozing': 1, 'off': 31, 'thump': 2, 'came': 25, 'heap': 1, 'sticks': 1, 'dry': 6, 'leaves': 4, 'over': 14, 'bit': 9, 'hurt': 3, 'jumped': 2, 'all': 61, 'overhead': 1, 'long': 12, 'passage': 4, 'still': 4, 'sight': 3, 'hurrying': 1, 'lost': 2, 'away': 16, 'wind': 1, 'turned': 7, 'corner': 3, 'ears': 2, 'whiskers': 2, 'how': 15, \"it's\": 14, 'behind': 3, 'longer': 1, 'low': 11, 'hall': 8, 'which': 21, 'lit': 1, 'row': 1, 'lamps': 1, 'hanging': 1, 'roof': 3, 'doors': 2, 'round': 17, 'locked': 1, 'been': 11, 'side': 9, 'other': 20, 'trying': 6, 'every': 3, 'door': 23, 'walked': 6, 'sadly': 1, 'middle': 4, 'wondering': 1, 'ever': 7, 'again': 28, 'little': 59, 'table': 14, 'solid': 1, 'glass': 8, 'tiny': 3, 'golden': 6, 'key': 9, 'idea': 7, 'might': 7, 'belong': 1, 'alas': 4, 'locks': 1, 'small': 7, 'any': 14, 'rate': 6, 'open': 4, 'them': 30, 'however': 8, 'second': 2, 'curtain': 1, 'fifteen': 1, 'inches': 5, 'high': 14, 'lock': 1, 'delight': 1, 'fitted': 1, 'opened': 6, 'led': 4, 'larger': 5, 'than': 8, 'rat-hole': 1, 'knelt': 1, 'along': 4, 'loveliest': 1, 'garden': 13, 'longed': 1, 'wander': 1, 'among': 9, 'those': 8, 'beds': 1, 'bright': 4, 'flowers': 2, 'cool': 2, 'fountains': 2, 'even': 4, 'head': 14, 'through': 8, 'doorway': 1, 'said': 144, 'shut': 3, 'telescope': 3, 'if': 27, 'only': 14, 'knew': 2, 'begin': 3, 'back': 15, 'half': 10, 'hoping': 1, 'find': 13, 'rules': 2, 'shutting': 2, 'people': 5, 'telescopes': 1, 'bottle': 8, 'certainly': 4, 'tied': 1, 'neck': 5, 'paper': 3, 'label': 1, 'words': 6, 'drink': 4, 'beautifully': 2, 'printed': 1, 'letters': 1, \"i'll\": 13, 'marked': 5, 'poison': 3, 'forgotten': 2, 'almost': 1, 'certain': 2, 'disagree': 1, 'sooner': 1, 'later': 1, 'ventured': 2, 'taste': 2, 'finding': 2, 'nice': 2, 'sort': 5, 'mixed': 1, 'flavor': 1, 'cherry-tart': 1, 'custard': 1, 'pineapple': 1, 'roast': 1, 'turkey': 1, 'toffy': 1, 'hot': 2, 'buttered': 1, 'toast': 1, 'finished': 3, 'curious': 7, 'feeling': 1, 'must': 14, 'indeed': 5, 'now': 24, 'ten': 5, 'face': 9, 'brightened': 1, 'right': 7, 'size': 10, 'going': 12, 'lovely': 2, 'awhile': 2, 'more': 23, 'happened': 2, 'decided': 1, 'poor': 10, 'got': 16, 'possibly': 2, 'reach': 3, 'quite': 19, 'plainly': 1, 'best': 5, 'climb': 1, 'legs': 2, 'slippery': 1, 'thing': 17, 'sat': 5, 'cried': 11, \"there's\": 11, 'crying': 1, 'rather': 10, 'sharply': 1, 'advise': 1, 'leave': 4, 'minute': 7, 'generally': 3, 'gave': 5, 'good': 8, 'advice': 1, 'though': 2, 'seldom': 1, 'followed': 5, 'sometimes': 3, 'scolded': 1, 'severely': 3, 'bring': 1, 'tears': 4, 'eye': 2, 'box': 2, 'lying': 4, 'cake': 2, 'eat': 7, 'currants': 1, 'makes': 4, 'grow': 8, 'can': 9, 'smaller': 1, 'creep': 1, \"don't\": 15, 'care': 3, 'happens': 3, 'ate': 1, 'anxiously': 5, 'holding': 2, 'hand': 10, 'top': 4, 'growing': 8, 'surprised': 4, 'remained': 2, 'same': 11, 'set': 8, 'work': 5, 'ii--the': 1, 'pool': 8, 'curiouser': 2, 'forgot': 2, 'speak': 3, 'english': 4, \"i'm\": 19, 'opening': 2, 'largest': 1, 'good-by': 1, 'wonder': 6, 'who': 20, 'will': 8, 'your': 21, 'shoes': 1, 'stockings': 1, 'dears': 2, 'deal': 5, 'far': 4, 'myself': 4, 'struck': 2, 'against': 5, 'fact': 4, 'nine': 3, 'hopeless': 1, 'cry': 3, 'shedding': 1, 'gallons': 1, 'until': 3, 'reaching': 1, 'heard': 17, 'pattering': 3, 'distance': 3, 'hastily': 8, 'dried': 1, 'returning': 1, 'splendidly': 1, 'dressed': 1, 'pair': 4, 'kid-gloves': 5, 'fan': 9, 'he': 22, 'trotting': 2, 'hurry': 4, 'muttering': 2, 'himself': 1, \"won't\": 6, 'savage': 1, \"i've\": 10, 'kept': 6, 'waiting': 4, 'near': 11, 'timid': 2, 'voice': 21, 'please': 11, 'sir': 6, 'violently': 3, 'dropped': 4, 'skurried': 1, 'darkness': 1, 'hard': 5, 'go': 22, 'gloves': 5, 'fanning': 1, 'queer': 1, 'everything': 3, 'to-day': 2, 'yesterday': 1, 'things': 4, 'usual': 2, 'morning': 3, 'next': 14, 'question': 8, 'world': 4, 'am': 6, 'ah': 2, \"that's\": 8, 'puzzle': 1, 'hands': 6, \"rabbit's\": 2, 'while': 5, 'have': 20, 'done': 4, 'measure': 1, 'two': 15, 'shrinking': 4, 'rapidly': 2, 'cause': 3, 'save': 2, 'altogether': 1, 'narrow': 1, 'escape': 3, 'frightened': 3, 'sudden': 3, 'change': 4, 'glad': 3, 'existence': 1, 'speed': 1, 'are': 19, 'worse': 1, 'child': 2, 'these': 5, 'foot': 7, 'slipped': 2, 'splash': 1, 'chin': 3, 'salt-water': 2, 'somehow': 1, 'fallen': 3, 'sea': 2, 'wept': 1, 'something': 10, 'splashing': 1, 'swam': 3, 'nearer': 1, 'mouse': 26, 'out-of-the-way': 1, 'likely': 1, 'talk': 6, 'harm': 1, 'o': 2, 'know': 20, 'swimming': 2, 'inquisitively': 1, 'wink': 1, 'perhaps': 2, \"doesn't\": 3, 'understand': 2, 'dare': 1, 'french': 2, 'william': 3, 'conqueror': 2, 'oг№': 1, 'est': 1, 'ma': 1, 'chatte': 1, 'sentence': 5, 'lesson-book': 1, 'leap': 1, 'water': 1, 'quiver': 1, 'fright': 2, 'beg': 3, 'pardon': 3, 'afraid': 6, \"animal's\": 1, 'feelings': 1, \"didn't\": 4, 'cats': 7, 'shrill': 2, 'passionate': 1, 'soothing': 1, 'tone': 11, 'angry': 3, 'yet': 6, 'show': 2, 'our': 7, \"you'd\": 3, 'fancy': 1, 'such': 12, 'quiet': 1, 'bristling': 1, 'really': 3, 'offended': 5, 'we': 7, 'trembling': 4, 'tail': 3, 'subject': 2, 'family': 1, 'always': 2, 'hated': 1, 'cats--nasty': 1, 'vulgar': 1, 'let': 5, 'name': 6, 'mad': 5, 'tea': 4, 'party': 6, 'conversation': 2, 'you--are': 1, 'fond--of--of': 1, 'dogs': 3, 'dog': 1, 'house': 12, 'kills': 1, 'rats': 1, 'and--oh': 1, 'sorrowful': 1, 'commotion': 1, 'called': 10, 'softly': 1, 'pale': 2, 'us': 3, 'shore': 2, 'tell': 9, 'history': 2, \"you'll\": 2, 'why': 15, 'hate': 1, 'crowded': 4, 'birds': 7, 'animals': 4, 'duck': 3, 'dodo': 7, 'lory': 2, 'eaglet': 2, 'several': 2, 'creatures': 3, 'whole': 6, 'iii--a': 1, 'caucus-race': 3, 'tale': 3, 'queer-looking': 1, 'assembled': 2, 'bank--the': 1, 'draggled': 1, 'feathers': 1, 'their': 10, 'fur': 2, 'clinging': 1, 'dripping': 1, 'wet': 2, 'cross': 1, 'uncomfortable': 1, 'course': 6, 'consultation': 1, 'few': 3, 'minutes': 4, 'natural': 1, 'familiarly': 1, 'known': 1, 'life': 3, 'last': 16, 'person': 1, 'authority': 1, 'sit': 1, 'listen': 2, 'enough': 5, 'ring': 2, 'ahem': 1, 'important': 3, 'air': 5, 'ready': 2, 'driest': 1, 'silence': 6, 'whose': 1, 'favored': 1, 'pope': 1, 'submitted': 1, 'wanted': 1, 'leaders': 1, 'accustomed': 1, 'usurpation': 1, 'conquest': 1, 'edwin': 1, 'morcar': 1, 'earls': 1, 'mercia': 1, 'northumbria': 1, 'ugh': 2, 'shiver': 1, 'stigand': 1, 'patriotic': 1, 'archbishop': 2, 'canterbury': 1, 'advisable': 2, 'replied': 6, 'crossly': 1, 'means': 3, 'frog': 2, 'worm': 1, 'notice': 4, 'hurriedly': 2, 'edgar': 1, 'atheling': 1, 'meet': 2, 'offer': 1, 'him': 5, \"crown.'--how\": 1, 'continued': 2, 'turning': 6, 'spoke': 5, 'melancholy': 1, 'seem': 3, 'case': 1, 'solemnly': 1, 'rising': 1, 'move': 1, 'meeting': 1, 'adjourn': 1, 'immediate': 1, 'adoption': 1, 'energetic': 1, 'remedies': 1, 'meaning': 3, \"what's\": 3, 'believe': 3, 'explain': 3, 'race-course': 1, 'circle': 1, 'placed': 1, 'three': 9, 'running': 4, 'liked': 2, 'left': 6, 'easy': 2, 'race': 2, 'hour': 2, 'panting': 1, 'asking': 3, 'has': 3, 'won': 2, 'answer': 3, 'everybody': 2, 'prizes': 5, 'give': 5, 'chorus': 3, 'voices': 2, 'asked': 4, 'pointing': 1, 'finger': 1, 'calling': 1, 'confused': 1, 'despair': 1, 'pocket': 2, 'pulled': 1, 'comfits': 2, 'luckily': 2, 'handed': 2, 'exactly': 3, 'a-piece': 1, 'caused': 2, 'noise': 3, 'confusion': 4, 'complained': 1, 'theirs': 1, 'ones': 1, 'choked': 1, 'patted': 1, 'begged': 1, 'promised': 1, 'hate--c': 1, 'd': 1, 'added': 8, 'whisper': 1, 'mine': 1, 'sad': 2, 'sighing': 1, 'looking': 11, \"mouse's\": 1, 'call': 4, 'puzzling': 1, 'speaking': 1, 'fury': 2, 'met': 2, 'both': 3, 'law': 1, 'prosecute': 1, 'denial': 1, 'trial': 5, 'cur': 1, 'jury': 4, 'judge': 3, 'wasting': 2, 'breath': 2, 'cunning': 1, 'old': 1, 'try': 3, 'condemn': 1, 'death': 1, 'attending': 1, 'thinking': 4, 'humbly': 1, 'fifth': 1, 'bend': 2, 'insult': 1, 'nonsense': 2, 'walking': 2, 'finish': 1, 'story': 1, 'others': 3, 'joined': 1, 'yes': 2, 'shook': 3, 'impatiently': 2, 'quicker': 1, 'sensation': 1, 'canary': 1, 'children': 2, 'bed': 1, 'various': 1, 'pretexts': 1, 'moved': 2, 'alone': 2, \"hadn't\": 1, 'mentioned': 1, 'nobody': 2, 'seems': 2, 'sure': 6, \"she's\": 2, 'lonely': 1, 'low-spirited': 1, 'footsteps': 2, 'eagerly': 1, 'iv--the': 1, 'sends': 1, 'bill': 4, 'paws': 1, \"she'll\": 1, 'executed': 2, 'ferrets': 2, 'where': 4, 'guessed': 2, 'good-naturedly': 1, 'hunting': 1, 'nowhere': 1, 'seen--everything': 1, 'changed': 3, 'since': 3, 'swim': 1, 'vanished': 2, 'completely': 1, 'mary': 4, 'ann': 4, 'doing': 3, 'run': 1, 'home': 2, 'fetch': 2, 'quick': 1, 'his': 17, 'housemaid': 1, \"he'll\": 1, 'finds': 1, 'neat': 1, 'brass': 1, 'plate': 1, 'w': 1, 'engraved': 1, 'knocking': 2, 'upstairs': 1, 'fear': 1, 'lest': 1, 'real': 1, 'tidy': 1, 'window': 7, 'pairs': 1, 'stood': 5, 'looking-glass': 1, 'uncorked': 1, 'lips': 1, 'saying': 2, \"it'll\": 2, 'being': 2, 'drunk': 1, 'pressing': 1, 'ceiling': 1, 'stoop': 1, 'broken': 4, 'remarking': 2, 'enough--i': 1, \"sha'n't\": 4, 'kneel': 1, 'floor': 2, 'resource': 1, 'arm': 9, 'chimney': 4, 'whatever': 2, 'become': 1, 'magic': 1, 'full': 4, 'effect': 2, 'grew': 1, 'outside': 2, 'stopped': 2, 'stairs': 1, 'trembled': 1, 'till': 6, 'forgetting': 1, 'thousand': 1, 'times': 2, 'reason': 2, 'presently': 1, 'inwards': 1, 'elbow': 1, 'pressed': 2, 'attempt': 1, 'proved': 1, 'failure': 1, 'fancied': 1, 'spread': 2, 'snatch': 2, 'hold': 2, 'shriek': 2, 'crash': 2, 'concluded': 1, 'possible': 1, 'cucumber-frame': 1, 'voice--the': 1, 'rabbit\\'s--\"pat': 1, 'pat': 2, 'digging': 2, 'apples': 1, 'yer': 2, 'honor': 2, 'help': 2, 'business': 3, 'whispers': 1, 'shrieks': 1, 'sounds': 2, 'pulling': 1, 'waited': 3, 'hearing': 2, 'rumbling': 1, 'cart-wheels': 1, 'sound': 2, 'many': 3, 'together': 5, \"where's\": 2, 'ladder': 1, \"bill's\": 1, 'other--bill': 1, \"bear?--who's\": 1, 'chimney?--nay': 1, 'master': 1, 'says': 1, \"you've\": 2, 'drew': 2, 'animal': 1, 'scratching': 1, 'scrambling': 1, 'above': 1, 'sharp': 3, 'kick': 1, 'happen': 1, 'general': 2, 'goes': 2, 'alone--\"catch': 1, 'voices--\"hold': 1, 'head--brandy': 1, \"now--don't\": 1, 'choke': 1, 'him--what': 1, 'feeble': 1, 'squeaking': 1, 'hardly': 3, 'know--no': 1, 'thank': 1, 'ye': 1, 'better': 3, 'now--all': 1, 'comes': 2, 'jack-in-the-box': 1, 'sky-rocket': 1, 'moving': 1, 'barrowful': 2, 'doubt': 1, 'shower': 2, 'pebbles': 2, 'rattling': 1, 'hit': 2, 'surprise': 3, 'cakes': 3, 'lay': 2, 'swallowed': 1, 'delighted': 2, 'directly': 1, 'crowd': 3, 'rush': 1, 'appeared': 1, 'safe': 1, 'thick': 1, 'wood': 6, 'tucked': 3, 'affectionately': 2, 'wandered': 1, 'suppose': 2, 'ought': 5, 'around': 1, 'blades': 1, 'grass': 2, 'circumstances': 1, 'mushroom': 7, 'height': 4, 'stretched': 2, 'tiptoe': 1, 'edge': 2, 'immediately': 1, 'blue': 1, 'caterpillar': 14, 'arms': 5, 'folded': 2, 'quietly': 2, 'smoking': 1, 'hookah': 3, 'taking': 2, 'smallest': 1, 'v--advice': 1, 'mouth': 3, 'addressed': 1, 'languid': 1, 'shyly': 1, 'i--i': 1, 'present--at': 1, 'least': 3, 'mean': 5, 'sternly': 1, 'yourself': 1, \"can't\": 8, 'because': 3, 'see--being': 1, 'different': 1, 'sizes': 1, 'confusing': 1, 'gravely': 1, 'unpleasant': 1, 'state': 1, 'keep': 2, 'temper': 2, 'swallowing': 1, 'anger': 2, 'unfolded': 2, \"you're\": 8, 'used--and': 1, 'want': 3, 'particular': 2, 'changing': 1, 'often': 1, \"wouldn't\": 2, 'wretched': 1, 'angrily': 1, 'rearing': 1, 'upright': 1, 'crawled': 1, 'merely': 1, 'taller': 2, 'shorter': 2, 'aloud': 2, 'thoughtfully': 1, 'broke': 1, 'each': 3, 'nibbled': 2, 'right-hand': 1, 'violent': 1, 'blow': 1, 'underneath': 1, 'chin--it': 1, 'closely': 1, 'swallow': 1, 'morsel': 1, 'left-hand': 2, \"head's\": 1, 'free': 2, 'immense': 1, 'length': 1, 'rise': 1, 'stalk': 1, 'green': 1, 'below': 2, 'shoulders': 1, 'easily': 1, 'direction': 3, 'serpent': 6, 'succeeded': 2, 'curving': 1, 'graceful': 1, 'zigzag': 1, 'dive': 1, 'hiss': 1, 'draw': 1, 'hurry--a': 1, 'pigeon': 7, 'flown': 1, 'beating': 1, 'wings': 1, 'indignantly': 2, 'roots': 1, 'trees': 4, 'banks': 1, 'hedges': 1, 'serpents': 2, 'pleasing': 1, 'puzzled': 1, \"wasn't\": 1, 'hatching': 1, 'eggs': 3, 'look-out': 1, 'night': 1, \"i'd\": 1, 'taken': 1, 'highest': 1, 'tree': 4, 'raising': 1, 'needs': 1, 'wriggling': 1, 'sky': 2, \"a--i'm\": 2, 'girl': 2, 'doubtfully': 1, 'remembered': 2, 'number': 1, 'changes': 1, 'gone': 5, 'does': 1, 'matter': 1, 'matters': 1, \"shouldn't\": 1, 'yours_--i': 1, 'raw': 1, 'sulky': 1, 'settled': 3, 'nest': 1, 'crouched': 1, 'entangled': 2, 'branches': 1, 'stop': 1, 'untwist': 1, 'held': 2, 'pieces': 2, 'carefully': 1, 'nibbling': 2, 'bringing': 1, 'strange': 2, 'beautiful': 2, 'garden--how': 1, 'place': 1, 'four': 1, 'whoever': 1, 'lives': 3, 'frighten': 1, 'wits': 1, 'venture': 1, 'brought': 1, 'vi--pig': 1, 'pepper': 3, 'footman': 4, 'livery': 2, 'judging': 1, 'fish)--and': 1, 'rapped': 1, 'loudly': 3, 'knuckles': 1, 'fish-footman': 2, 'producing': 1, 'letter': 3, 'solemn': 2, 'invitation': 2, 'queen': 28, 'play': 6, 'croquet': 7, 'frog-footman': 1, 'repeated': 2, 'bowed': 2, 'curls': 1, 'ground': 3, 'staring': 1, 'stupidly': 1, 'timidly': 4, 'knocked': 1, 'reasons': 1, 'secondly': 1, \"they're\": 5, 'inside': 1, 'most': 2, 'extraordinary': 1, 'within--a': 1, 'constant': 1, 'howling': 3, 'sneezing': 4, 'dish': 2, 'kettle': 1, 'kitchen': 2, 'smoke': 1, 'three-legged': 1, 'stool': 1, 'nursing': 1, 'baby': 5, 'cook': 7, 'leaning': 1, 'fire': 2, 'stirring': 1, 'caldron': 2, 'soup': 3, 'sneezed': 1, 'occasionally': 1, 'alternately': 1, \"moment's\": 1, 'pause': 1, 'sneeze': 1, 'grinning': 1, 'ear': 3, 'grins': 1, 'cheshire-cat': 3, 'cheshire-cats': 1, 'grinned': 2, 'grin': 1, 'throwing': 1, 'within': 1, 'baby--the': 1, 'fire-irons': 1, 'saucepans': 1, 'plates': 1, 'dishes': 1, 'already': 1, 'impossible': 1, 'blows': 1, 'jumping': 2, 'agony': 1, 'terror': 1, 'may': 3, 'nurse': 1, 'flinging': 1, 'caught': 2, 'difficulty': 2, 'queer-shaped': 1, 'creature': 3, 'directions': 2, 'kill': 1, 'murder': 1, 'loud': 1, 'grunted': 2, 'reply': 2, 'turn': 1, 'pig': 2, 'alarm': 1, 'mistake': 2, 'it--it': 1, 'neither': 2, 'less': 2, 'relieved': 1, 'trot': 1, 'startled': 2, 'seeing': 1, 'bough': 1, 'yards': 1, 'cheshire-puss': 1, 'waving': 2, 'paw': 2, 'hatter': 11, 'march': 9, 'hare': 8, 'visit': 1, 'remarked': 1, \"we're\": 2, \"haven't\": 2, 'invited': 1, 'farther': 1, 'vii--a': 1, 'tea-party': 2, 'front': 2, 'dormouse': 6, 'between': 1, 'fast': 1, 'asleep': 2, 'arm-chair': 1, 'wide': 1, 'raven': 1, 'writing-desk': 1, \"they've\": 1, 'begun': 1, 'riddles--i': 1, 'guess': 1, 'least--at': 1, \"say--that's\": 1, 'sleep': 4, 'breathe': 2, 'poured': 1, 'nose': 1, 'remark': 1, 'riddle': 1, 'slightest': 1, 'weary': 1, 'sigh': 1, 'riddles': 1, 'answers': 1, 'earnestly': 1, 'instantly': 2, 'tea-pot': 1, 'knave': 6, 'hearts': 8, 'picked': 2, 'stupidest': 1, 'leading': 1, 'unlocked': 1, 'piece': 4, 'then_--she': 1, 'flower-beds': 1, 'viii--the': 1, \"queen's\": 2, 'rose-tree': 2, 'entrance': 1, 'roses': 2, 'gardeners': 2, 'busily': 1, 'painting': 2, 'red': 2, 'chanced': 1, 'watching': 1, 'five': 2, 'seven': 1, 'heads': 2, 'cut': 1, 'afore': 1, 'threw': 1, 'themselves': 3, 'flat': 1, 'faces': 1, 'eager': 1, 'soldiers': 3, 'carrying': 2, 'clubs': 1, 'corners': 1, 'courtiers': 1, 'ornamented': 2, 'diamonds': 1, 'royal': 1, 'guests': 1, 'mostly': 2, 'kings': 1, 'queens': 1, 'recognized': 1, \"king's\": 1, 'crown': 2, 'crimson': 1, 'velvet': 1, 'cushion': 1, 'grand': 1, 'procession': 2, 'king': 24, 'opposite': 1, 'smiled': 1, 'majesty': 5, 'politely': 1, 'pack': 4, 'cards': 3, 'shouted': 4, 'evidently': 1, 'meant': 2, 'roared': 1, \"it's--it's\": 1, 'fine': 1, 'peeping': 1, 'hush': 2, 'execution': 2, 'boxed': 1, 'places': 1, 'thunder': 1, 'tumbling': 1, 'game': 3, 'croquet-ground': 2, 'ridges': 1, 'furrows': 1, 'balls': 1, 'live': 2, 'hedgehogs': 2, 'mallets': 1, 'flamingos': 1, 'double': 1, 'stand': 1, 'arches': 1, 'players': 3, 'played': 1, 'turns': 1, 'quarrelling': 1, 'fighting': 1, 'short': 1, 'furious': 1, 'passion': 1, 'stamping': 2, 'shouting': 2, 'dreadfully': 2, 'fond': 1, 'beheading': 1, 'anyone': 1, 'alive': 1, 'appearance': 1, 'somebody': 3, 'fairly': 1, 'complaining': 1, 'quarrel': 1, 'oneself': 1, 'speak--and': 1, 'search': 1, 'hedgehog': 3, 'engaged': 1, 'fight': 1, 'excellent': 1, 'opportunity': 1, 'croqueting': 1, 'flamingo': 2, 'helpless': 1, 'fly': 1, 'prison': 1, 'pleasant': 1, 'forget': 1, \"game's\": 1, 'keeping': 1, 'tis': 3, 'moral': 2, \"is--'oh\": 1, 'love': 2, 'whispered': 1, 'minding': 1, 'shoulder': 1, \"is--'take\": 1, 'sense': 1, \"duchess's\": 2, 'linked': 1, 'hers': 2, 'tremble': 1, 'frowning': 1, 'thunderstorm': 1, 'fair': 1, 'warning': 1, 'choice': 2, \"let's\": 1, 'word': 1, 'playing': 1, 'quarreling': 1, 'except': 1, 'custody': 1, 'pardoned': 1, \"trial's\": 1, 'ix--who': 1, 'stole': 2, 'tarts': 5, 'seated': 1, 'throne': 1, 'arrived': 1, 'them--all': 1, 'sorts': 1, 'beasts': 1, 'standing': 1, 'chains': 1, 'soldier': 1, 'guard': 1, 'trumpet': 3, 'scroll': 1, 'parchment': 1, 'court': 7, \"they'd\": 1, 'refreshments': 1, 'wore': 1, 'wig': 1, 'jury-box': 2, 'twelve': 1, 'jurors': 1, 'herald': 1, 'read': 6, 'accusation': 1, 'blew': 2, 'blasts': 2, 'unrolled': 1, 'parchment-scroll': 1, 'follows': 1, 'summer': 1, 'witness': 8, 'teacup': 3, 'bread': 3, 'butter': 3, 'fourteenth': 1, 'evidence': 5, 'nervous': 1, 'spot': 1, 'encourage': 1, 'shifting': 1, 'uneasily': 1, 'instead': 1, 'sensation--she': 1, 'miserable': 1, 'knee': 1, 'man': 2, 'speaker': 1, 'carried': 1, 'pepper-box': 1, 'cross-examine': 1, 'disappeared': 1, 'watched': 1, 'fumbled': 1, 'list': 1, 'imagine': 1, \"x--alice's\": 1, 'tipped': 1, 'upsetting': 1, 'jurymen': 2, 'exclaimed': 1, 'dismay': 1, 'cannot': 1, 'proceed': 1, 'proper': 1, 'places--_all': 1, 'emphasis': 1, 'rule': 1, 'forty-two': 1, 'persons': 1, 'mile': 2, 'nearly': 1, 'miles': 1, 'note-book': 1, 'consider': 2, 'verdict': 2, 'written': 1, 'prisoner': 1, 'to--to': 1, \"isn't\": 1, 'verses': 2, 'write': 1, 'prove': 1, 'signed': 2, 'mischief': 1, 'honest': 1, 'clapping': 1, 'dead': 2, 'whilst': 1, \"we've\": 1, 'atom': 1, 'saves': 1, \"needn't\": 1, 'first--verdict': 1, 'afterwards': 1, 'stuff': 1, 'tongue': 1, 'purple': 1, 'cares': 1, 'grown': 1, 'rose': 1, 'flying': 1, 'scream': 1, 'beat': 1, 'lap': 1, 'gently': 1, 'brushing': 1, 'fluttered': 1, 'wake': 1, 'dream': 2, 'told': 1, 'wonderful': 1, 'lewis': 1, 'carroll': 1}\n"
     ]
    }
   ],
   "source": [
    "def gutenberg_file_wc(filename):\n",
    "    alice=open('alice.txt').read()\n",
    "    a=alice.find('*** START OF THIS PROJECT GUTENBERG EBOOK')\n",
    "    z=alice.find('*** END OF THIS PROJECT GUTENBERG EBOOK')\n",
    "    alice_new=alice[a:z]\n",
    "    alice_tokens=tokenize(alice_new)\n",
    "    gutenberg_file_wc={x:alice_tokens.count(x) for x in alice_tokens}\n",
    "    return gutenberg_file_wc\n",
    "print(gutenberg_file_wc('alice.txt'))"
   ]
  },
  {
   "cell_type": "code",
   "execution_count": 62,
   "metadata": {},
   "outputs": [
    {
     "name": "stdout",
     "output_type": "stream",
     "text": [
      "sum of clusters: 29\n",
      "['bl', 'br', 'cl', 'cr', 'dr', 'fl', 'fr', 'gl', 'gr', 'pl', 'pr', 'sc', 'scr', 'shr', 'sk', 'sl', 'sm', 'sn', 'sp', 'spl', 'spr', 'sq', 'st', 'str', 'sw', 'thr', 'tr', 'tw', 'wr']\n",
      "{'st': 29, 'pr': 20, 'sp': 8, 'tw': 3, 'sl': 6, 'pl': 16, 'tr': 14, 'cl': 6, 'fl': 13, 'str': 4, 'fr': 10, 'gr': 16, 'dr': 14, 'gl': 3, 'sm': 6, 'br': 14, 'thr': 6, 'cr': 20, 'sc': 1, 'spl': 3, 'sk': 3, 'shr': 4, 'sw': 6, 'spr': 1, 'sn': 4, 'scr': 4, 'sq': 1, 'bl': 6, 'wr': 5}\n"
     ]
    }
   ],
   "source": [
    "import re\n",
    "\n",
    "def clustercount(alice):\n",
    "    \n",
    "    exceptions=['ch','wh','kn','gn','th','sh',\"htt\",\"\"]\n",
    "    string=''\n",
    "    list_of_keys=list(alice)\n",
    "    dic_of_results={}\n",
    "    for line in list_of_keys:        \n",
    "        word=\"\"\n",
    "        s=[\"\",\"\",\"\"]\n",
    "        for i in range(len(line)):\n",
    "            if i==0:\n",
    "                if(re.search('[euoaiy]',line[i])):\n",
    "                    break\n",
    "            s[i]=line[i]\n",
    "            word+=s[i]                 \n",
    "            if i==2:\n",
    "                break\n",
    "        \n",
    "        res=re.search('[qwrtpsdfghklzxcvbnmj]{2,3}',word)\n",
    "        \n",
    "        if res:\n",
    "            string=res.group()\n",
    "        else:\n",
    "            continue\n",
    "            \n",
    "        if not exceptions.count(string):\n",
    "            if string not in dic_of_results.keys():\n",
    "                dic_of_results[string]=1\n",
    "            else:\n",
    "                integr=int(dic_of_results[string])+1                \n",
    "                dic_of_results[string]=integr\n",
    "    list_of_clusters=list(dic_of_results)\n",
    "    print('sum of clusters:',len(list_of_clusters))\n",
    "    print(sorted(dic_of_results))\n",
    "    return dic_of_results\n",
    "print(clustercount(gutenberg_file_wc('alice.txt')))"
   ]
  },
  {
   "cell_type": "code",
   "execution_count": null,
   "metadata": {},
   "outputs": [],
   "source": []
  }
 ],
 "metadata": {
  "kernelspec": {
   "display_name": "Python 3",
   "language": "python",
   "name": "python3"
  },
  "language_info": {
   "codemirror_mode": {
    "name": "ipython",
    "version": 3
   },
   "file_extension": ".py",
   "mimetype": "text/x-python",
   "name": "python",
   "nbconvert_exporter": "python",
   "pygments_lexer": "ipython3",
   "version": "3.7.3"
  }
 },
 "nbformat": 4,
 "nbformat_minor": 2
}
