{
 "cells": [
  {
   "cell_type": "code",
   "execution_count": 59,
   "metadata": {},
   "outputs": [
    {
     "name": "stdout",
     "output_type": "stream",
     "text": [
      "[[1, 74.37000326528938, 'Psychologist'], [2, 67.49686206937491, 'Psychologist'], [3, 74.92356434760966, 'Psychologist'], [4, 64.62372198999978, 'Psychologist'], [5, 67.76787900026083, 'Linguist'], [6, 61.50397707923559, 'Psychologist'], [7, 62.73680961908566, 'Psychologist'], [8, 68.60803984763902, 'Linguist'], [9, 70.16090500135535, 'Psychologist'], [10, 76.81144438287173, 'Linguist']]\n",
      "68.9003206602722\n",
      "{'Linguist': 3, 'Psychologist': 7}\n"
     ]
    }
   ],
   "source": [
    "myspreadsheet =\"\"\"Subject,Height,Occupation\n",
    "1,74.37000326528938,Psychologist\n",
    "2,67.49686206937491,Psychologist\n",
    "3,74.92356434760966,Psychologist\n",
    "4,64.62372198999978,Psychologist\n",
    "5,67.76787900026083,Linguist\n",
    "6,61.50397707923559,Psychologist\n",
    "7,62.73680961908566,Psychologist\n",
    "8,68.60803984763902,Linguist\n",
    "9,70.16090500135535,Psychologist\n",
    "10,76.81144438287173,Linguist\"\"\"\n",
    "\n",
    "def csv_parser(s):\n",
    "    data=[]\n",
    "    lines=s.splitlines()\n",
    "    lines=lines[1:]\n",
    "    for line in lines:\n",
    "        l=line.strip().split(',')\n",
    "        l[0]=int(l[0])\n",
    "        l[1]=float(l[1])\n",
    "        data.append(l)\n",
    "    return data\n",
    "print(csv_parser(myspreadsheet))\n",
    "def mean_height(data):\n",
    "    par_list=csv_parser(data)\n",
    "    float_mean=0.0\n",
    "    for i in range(len(par_list)):\n",
    "        float_mean+=par_list[i][1]\n",
    "    return float_mean/len(par_list)\n",
    "print (mean_height(myspreadsheet))\n",
    "def occupation_distribution(data):\n",
    "    p=csv_parser(data)\n",
    "    t=tuple(x[2] for x in p)\n",
    "    occupation_dictionary={'Linguist':t.count('Linguist'),'Psychologist':t.count('Psychologist')}\n",
    "    return occupation_dictionary\n",
    "print(occupation_distribution(myspreadsheet))"
   ]
  },
  {
   "cell_type": "code",
   "execution_count": null,
   "metadata": {},
   "outputs": [],
   "source": []
  }
 ],
 "metadata": {
  "kernelspec": {
   "display_name": "Python 3",
   "language": "python",
   "name": "python3"
  },
  "language_info": {
   "codemirror_mode": {
    "name": "ipython",
    "version": 3
   },
   "file_extension": ".py",
   "mimetype": "text/x-python",
   "name": "python",
   "nbconvert_exporter": "python",
   "pygments_lexer": "ipython3",
   "version": "3.7.3"
  }
 },
 "nbformat": 4,
 "nbformat_minor": 2
}
