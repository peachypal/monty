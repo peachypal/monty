{
 "cells": [
  {
   "cell_type": "markdown",
   "metadata": {},
   "source": [
    "This program is designed to ask its users to determine the 'adequacy' of five given sentences, where every sentence has a mistake in it. The main idea is to find out in what sentences users fail to identify these mistakes the most. \n",
    "\n",
    "The program then saves the answers, and creates a bar plot based on the acquired information. The plot displays the amount of all users' incorrect answers (y-axis) given for each sentence (x-axis). "
   ]
  },
  {
   "cell_type": "markdown",
   "metadata": {},
   "source": [
    "For the program to work, we need to:\n",
    "  1. create a dictionary where our sentences as well as correct answers could be stored;\n",
    "  2. create another dictionary, which is a dictionary of dictionaries, that could store every user's answers;\n",
    "  3. use the 'input' function so that users could answer the questions;\n",
    "  4. create yet another dictionary where we could store total amount of mistakes for each sentence;\n",
    "  5. create a bar plot that would show the results.\n",
    "  \n",
    "And, well, we of course need to import certain stuff."
   ]
  },
  {
   "cell_type": "code",
   "execution_count": 1,
   "metadata": {},
   "outputs": [
    {
     "name": "stdout",
     "output_type": "stream",
     "text": [
      "Requirement already satisfied: matplotlib in e:\\users\\user\\anaconda3\\lib\\site-packages (3.1.0)\n",
      "Requirement already satisfied: cycler>=0.10 in e:\\users\\user\\anaconda3\\lib\\site-packages (from matplotlib) (0.10.0)\n",
      "Requirement already satisfied: kiwisolver>=1.0.1 in e:\\users\\user\\anaconda3\\lib\\site-packages (from matplotlib) (1.1.0)\n",
      "Requirement already satisfied: pyparsing!=2.0.4,!=2.1.2,!=2.1.6,>=2.0.1 in e:\\users\\user\\anaconda3\\lib\\site-packages (from matplotlib) (2.4.0)\n",
      "Requirement already satisfied: python-dateutil>=2.1 in e:\\users\\user\\anaconda3\\lib\\site-packages (from matplotlib) (2.8.0)\n",
      "Requirement already satisfied: numpy>=1.11 in e:\\users\\user\\anaconda3\\lib\\site-packages (from matplotlib) (1.16.4)\n",
      "Requirement already satisfied: six in e:\\users\\user\\anaconda3\\lib\\site-packages (from cycler>=0.10->matplotlib) (1.12.0)\n",
      "Requirement already satisfied: setuptools in e:\\users\\user\\anaconda3\\lib\\site-packages (from kiwisolver>=1.0.1->matplotlib) (41.0.1)\n"
     ]
    }
   ],
   "source": [
    "#so that's what we're doing here\n",
    "!pip install matplotlib \n",
    "import matplotlib.pyplot as plt\n",
    "import matplotlib\n",
    "from matplotlib import style\n",
    "style.use('ggplot') #for bar plot\n",
    "\n",
    "import re #we're going to use regular expressions to check for digits when asking for the number of users"
   ]
  },
  {
   "cell_type": "code",
   "execution_count": 5,
   "metadata": {},
   "outputs": [
    {
     "name": "stdout",
     "output_type": "stream",
     "text": [
      "Количество участников: 3\n",
      "Моё опоздание отразится на зарплату в этом месяце.\n",
      "Является ли данное предложение грамотно составленным? (да/нет) да\n",
      "Ваш ответ: да\n",
      "Она работает заведующей отдела кадров.\n",
      "Является ли данное предложение грамотно составленным? (да/нет) да\n",
      "Ваш ответ: да\n",
      "Я удивляюсь терпением этого человека!\n",
      "Является ли данное предложение грамотно составленным? (да/нет) нет\n",
      "Ваш ответ: нет\n",
      "Управление автомобиля в нетрезвом виде не допускается.\n",
      "Является ли данное предложение грамотно составленным? (да/нет) да\n",
      "Ваш ответ: да\n",
      "Оплатите за проезд!\n",
      "Является ли данное предложение грамотно составленным? (да/нет) нет\n",
      "Ваш ответ: нет\n",
      "Следующий участник.\n",
      "Моё опоздание отразится на зарплату в этом месяце.\n",
      "Является ли данное предложение грамотно составленным? (да/нет) да\n",
      "Ваш ответ: да\n",
      "Она работает заведующей отдела кадров.\n",
      "Является ли данное предложение грамотно составленным? (да/нет) нет\n",
      "Ваш ответ: нет\n",
      "Я удивляюсь терпением этого человека!\n",
      "Является ли данное предложение грамотно составленным? (да/нет) нет\n",
      "Ваш ответ: нет\n",
      "Управление автомобиля в нетрезвом виде не допускается.\n",
      "Является ли данное предложение грамотно составленным? (да/нет) да\n",
      "Ваш ответ: да\n",
      "Оплатите за проезд!\n",
      "Является ли данное предложение грамотно составленным? (да/нет) нет\n",
      "Ваш ответ: нет\n",
      "Следующий участник.\n",
      "Моё опоздание отразится на зарплату в этом месяце.\n",
      "Является ли данное предложение грамотно составленным? (да/нет) нет\n",
      "Ваш ответ: нет\n",
      "Она работает заведующей отдела кадров.\n",
      "Является ли данное предложение грамотно составленным? (да/нет) да\n",
      "Ваш ответ: да\n",
      "Я удивляюсь терпением этого человека!\n",
      "Является ли данное предложение грамотно составленным? (да/нет) нет\n",
      "Ваш ответ: нет\n",
      "Управление автомобиля в нетрезвом виде не допускается.\n",
      "Является ли данное предложение грамотно составленным? (да/нет) да\n",
      "Ваш ответ: да\n",
      "Оплатите за проезд!\n",
      "Является ли данное предложение грамотно составленным? (да/нет) да\n",
      "Ваш ответ: да\n",
      "{'subject0': {'Моё опоздание отразится на зарплату в этом месяце.': 'да', 'Она работает заведующей отдела кадров.': 'да', 'Я удивляюсь терпением этого человека!': 'нет', 'Управление автомобиля в нетрезвом виде не допускается.': 'да', 'Оплатите за проезд!': 'нет'}, 'subject1': {'Моё опоздание отразится на зарплату в этом месяце.': 'да', 'Она работает заведующей отдела кадров.': 'нет', 'Я удивляюсь терпением этого человека!': 'нет', 'Управление автомобиля в нетрезвом виде не допускается.': 'да', 'Оплатите за проезд!': 'нет'}, 'subject2': {'Моё опоздание отразится на зарплату в этом месяце.': 'нет', 'Она работает заведующей отдела кадров.': 'да', 'Я удивляюсь терпением этого человека!': 'нет', 'Управление автомобиля в нетрезвом виде не допускается.': 'да', 'Оплатите за проезд!': 'да'}}\n",
      "{'Моё опоздание отразится на зарплату в этом месяце.': 2, 'Она работает заведующей отдела кадров.': 2, 'Я удивляюсь терпением этого человека!': 0, 'Управление автомобиля в нетрезвом виде не допускается.': 3, 'Оплатите за проезд!': 1}\n"
     ]
    },
    {
     "data": {
      "image/png": "[encoded data removed]",
      "text/plain": [
       "<Figure size 432x288 with 1 Axes>"
      ]
     },
     "metadata": {
      "needs_background": "light"
     },
     "output_type": "display_data"
    }
   ],
   "source": [
    "#the main event\n",
    "d_sentences={'Моё опоздание отразится на зарплату в этом месяце.':\"нет\", 'Она работает заведующей отдела кадров.':\"нет\", \"Я удивляюсь терпением этого человека!\":\"нет\", \"Управление автомобиля в нетрезвом виде не допускается.\":\"нет\", \"Оплатите за проезд!\":\"нет\"}\n",
    "d_subjects={} #key=sentence, value=answer\n",
    "dic_dic={} #dictionary of dictionaries\n",
    "\n",
    "amount_of_subjects=input(\"Количество участников: \")#we need to know how many users are taking part in this little survey\n",
    "res=re.search('\\d',amount_of_subjects) #here we're looking for digits!\n",
    "while res==None: #if there are no digits to be found in the answer...\n",
    "    print(\"Введите число.\")\n",
    "    amount_of_subjects=input(\"Количество участников: \")#we're being persistent\n",
    "    res=re.search('\\d',amount_of_subjects)\n",
    "\n",
    "for j in range(int(amount_of_subjects)):  #for every user we do the following:\n",
    "    for i in list(d_sentences):\n",
    "        print(i)                                                                        #we print every sentence one by one,\n",
    "        theInput=input('Является ли данное предложение грамотно составленным? (да/нет) ')#and then ask this question.\n",
    "        theInput=theInput.lower()                    #we do this so that if the user answers \"Да\" for instance, \n",
    "        while theInput!='да' and theInput!='нет':    #the program could still recognize it as the answer it's looking for\n",
    "            print('Ошибка.')        \n",
    "            theInput=input('Пожалуйста, введите да или нет. ')    #only \"да/нет\" answers to be given!    \n",
    "        print('Ваш ответ:', theInput) #shows the answer\n",
    "        d_subjects[i]=theInput        #saves it\n",
    "    dic_dic[\"subject\"+str(j)]=d_subjects.copy()  #so that python could save all users' answers into dic of dics\n",
    "    if j!=int(amount_of_subjects)-1:      #if the next user is not the last one...\n",
    "        print(\"Следующий участник.\")      #...the loop goes on\n",
    "\n",
    "print(dic_dic)\n",
    "mistakes_dic=d_sentences.copy() #that's a dictionary of mistakes, where key=sentence:value=total amount of incorrect answers\n",
    "                                #but for now it's just a copy of our dict of sentences\n",
    "for i in list(mistakes_dic):\n",
    "    mistakes_dic[i]=0   #we turn values into 0\n",
    "for j in range(int(amount_of_subjects)):\n",
    "    proxydic=dic_dic['subject'+str(j)] #we put a certain 'subjectJ' into our proxy dict\n",
    "                                       #of sentences and answers\n",
    "    for i in list(d_sentences):       #here we search for every case where an incorrect answer was given...\n",
    "        if d_sentences[i]!=proxydic[i]:\n",
    "            mistakes_dic[i]+=1              #...and increment the total number of incorrect answers by one\n",
    "print(mistakes_dic)\n",
    "\n",
    "#finally, the bar plot\n",
    "\n",
    "plt.bar(range(len(mistakes_dic)), list(mistakes_dic.values())) #X and Y, accordingly\n",
    "                                                                #i've also decided to turn sentences \n",
    "                                                                #into numbers, because otherwise\n",
    "                                                                #it looks like a mess...\n",
    "plt.show()"
   ]
  },
  {
   "cell_type": "markdown",
   "metadata": {},
   "source": [
    "Now, this is just a prototype of a program, although I tried my very best to prevent the occurence of as many casualties as I could think of. Still, I believe there are further modifications to be made, so I am open for suggestions!"
   ]
  },
  {
   "cell_type": "code",
   "execution_count": null,
   "metadata": {},
   "outputs": [],
   "source": []
  }
 ],
 "metadata": {
  "kernelspec": {
   "display_name": "Python 3",
   "language": "python",
   "name": "python3"
  },
  "language_info": {
   "codemirror_mode": {
    "name": "ipython",
    "version": 3
   },
   "file_extension": ".py",
   "mimetype": "text/x-python",
   "name": "python",
   "nbconvert_exporter": "python",
   "pygments_lexer": "ipython3",
   "version": "3.7.3"
  }
 },
 "nbformat": 4,
 "nbformat_minor": 2
}
